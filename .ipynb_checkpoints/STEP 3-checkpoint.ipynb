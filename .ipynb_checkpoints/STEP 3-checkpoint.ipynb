{
 "cells": [
  {
   "cell_type": "markdown",
   "id": "37664fd9",
   "metadata": {},
   "source": [
    "Aggiungi al notebook dello Step 1 uno script che iteri sulla sottocartella images e costruisca una tabella riassuntiva \n",
    "prodotta con la libreria tabulate.\n",
    "\n",
    "══════════╤══════════╤═════════╤═════════════╤════════╤════════╤═══════╤═════════╕\n",
    "│ name     │   height │   width │   grayscale │      R │      G │     B │   ALPHA │\n",
    "╞══════════╪══════════╪═════════╪═════════════╪════════╪════════╪═══════╪═════════╡\n",
    "│ bw       │      512 │     512 │       21.48 │   0.00 │   0.00 │  0.00 │    0.00 │\n",
    "├──────────┼──────────┼─────────┼─────────────┼────────┼────────┼───────┼─────────┤\n",
    "│ daffodil │      500 │     335 │        0.00 │ 109.25 │  85.56 │  4.97 │    0.00 │\n",
    "├──────────┼──────────┼─────────┼─────────────┼────────┼────────┼───────┼─────────┤\n",
    "│ eclipse  │      256 │     256 │        0.00 │ 109.05 │ 109.52 │ 39.85 │  133.59 │\n",
    "├──────────┼──────────┼─────────┼─────────────┼────────┼────────┼───────┼─────────┤\n",
    "│ trump    │      183 │     275 │        0.00 │  97.01 │  98.99 │ 90.92 │    0.00 │\n",
    "╘══════════╧══════════╧═════════╧═════════════╧════════╧════════╧═══════╧═════════╛\n",
    "Oltre al nome del file, la tabella riporta:\n",
    "\n",
    "altezza dell'immagine, in pixel\n",
    "larghezza dell'immagine, in pixel\n",
    "se l'immagine è in scala di grigio, la colonna grayscale indica la media dei valori dell'unico livello di colore\n",
    "se l'immagine è a colori, le altre colonne indicano la media dei valori di ogni livello di colore."
   ]
  },
  {
   "cell_type": "code",
   "execution_count": null,
   "id": "3a65774c",
   "metadata": {},
   "outputs": [],
   "source": []
  },
  {
   "cell_type": "code",
   "execution_count": null,
   "id": "8177e31d",
   "metadata": {},
   "outputs": [],
   "source": []
  }
 ],
 "metadata": {
  "kernelspec": {
   "display_name": "Python 3 (ipykernel)",
   "language": "python",
   "name": "python3"
  },
  "language_info": {
   "codemirror_mode": {
    "name": "ipython",
    "version": 3
   },
   "file_extension": ".py",
   "mimetype": "text/x-python",
   "name": "python",
   "nbconvert_exporter": "python",
   "pygments_lexer": "ipython3",
   "version": "3.9.7"
  }
 },
 "nbformat": 4,
 "nbformat_minor": 5
}
